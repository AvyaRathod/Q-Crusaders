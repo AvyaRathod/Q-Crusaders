{
 "cells": [
  {
   "cell_type": "code",
   "execution_count": 3,
   "id": "fa4017a8-9fe8-43dc-b9e0-969743289b70",
   "metadata": {},
   "outputs": [
    {
     "ename": "CircuitError",
     "evalue": "'Expression cannot bind non-numeric values ({ParameterVectorElement(x[0]): array([163, 163, 163], dtype=uint8)})'",
     "output_type": "error",
     "traceback": [
      "\u001b[0;31m---------------------------------------------------------------------------\u001b[0m",
      "\u001b[0;31mCircuitError\u001b[0m                              Traceback (most recent call last)",
      "Cell \u001b[0;32mIn[3], line 20\u001b[0m\n\u001b[1;32m     18\u001b[0m         pixel_value \u001b[38;5;241m=\u001b[39m image_pixels[i, j]\n\u001b[1;32m     19\u001b[0m         qubit_index \u001b[38;5;241m=\u001b[39m i \u001b[38;5;241m*\u001b[39m image_pixels\u001b[38;5;241m.\u001b[39mshape[\u001b[38;5;241m1\u001b[39m] \u001b[38;5;241m+\u001b[39m j\n\u001b[0;32m---> 20\u001b[0m         z_feature_map \u001b[38;5;241m=\u001b[39m \u001b[43mz_feature_map\u001b[49m\u001b[38;5;241;43m.\u001b[39;49m\u001b[43mbind_parameters\u001b[49m\u001b[43m(\u001b[49m\u001b[43m{\u001b[49m\u001b[43mz_feature_map\u001b[49m\u001b[38;5;241;43m.\u001b[39;49m\u001b[43mparameters\u001b[49m\u001b[43m[\u001b[49m\u001b[43mqubit_index\u001b[49m\u001b[43m]\u001b[49m\u001b[43m:\u001b[49m\u001b[43m \u001b[49m\u001b[43mpixel_value\u001b[49m\u001b[43m}\u001b[49m\u001b[43m)\u001b[49m\n\u001b[1;32m     22\u001b[0m \u001b[38;5;66;03m# Print the circuit\u001b[39;00m\n\u001b[1;32m     23\u001b[0m \u001b[38;5;28mprint\u001b[39m(z_feature_map)\n",
      "File \u001b[0;32m/Library/Frameworks/Python.framework/Versions/3.11/lib/python3.11/site-packages/qiskit/circuit/quantumcircuit.py:2918\u001b[0m, in \u001b[0;36mQuantumCircuit.bind_parameters\u001b[0;34m(self, values)\u001b[0m\n\u001b[1;32m   2914\u001b[0m     \u001b[38;5;28;01mif\u001b[39;00m \u001b[38;5;28many\u001b[39m(\u001b[38;5;28misinstance\u001b[39m(value, ParameterExpression) \u001b[38;5;28;01mfor\u001b[39;00m value \u001b[38;5;129;01min\u001b[39;00m values\u001b[38;5;241m.\u001b[39mvalues()):\n\u001b[1;32m   2915\u001b[0m         \u001b[38;5;28;01mraise\u001b[39;00m \u001b[38;5;167;01mTypeError\u001b[39;00m(\n\u001b[1;32m   2916\u001b[0m             \u001b[38;5;124m\"\u001b[39m\u001b[38;5;124mFound ParameterExpression in values; use assign_parameters() instead.\u001b[39m\u001b[38;5;124m\"\u001b[39m\n\u001b[1;32m   2917\u001b[0m         )\n\u001b[0;32m-> 2918\u001b[0m     \u001b[38;5;28;01mreturn\u001b[39;00m \u001b[38;5;28;43mself\u001b[39;49m\u001b[38;5;241;43m.\u001b[39;49m\u001b[43massign_parameters\u001b[49m\u001b[43m(\u001b[49m\u001b[43mvalues\u001b[49m\u001b[43m)\u001b[49m\n\u001b[1;32m   2919\u001b[0m \u001b[38;5;28;01melse\u001b[39;00m:\n\u001b[1;32m   2920\u001b[0m     \u001b[38;5;28;01mif\u001b[39;00m \u001b[38;5;28many\u001b[39m(\u001b[38;5;28misinstance\u001b[39m(value, ParameterExpression) \u001b[38;5;28;01mfor\u001b[39;00m value \u001b[38;5;129;01min\u001b[39;00m values):\n",
      "File \u001b[0;32m/Library/Frameworks/Python.framework/Versions/3.11/lib/python3.11/site-packages/qiskit/circuit/library/n_local/n_local.py:808\u001b[0m, in \u001b[0;36mNLocal.assign_parameters\u001b[0;34m(self, parameters, inplace, **kwargs)\u001b[0m\n\u001b[1;32m    805\u001b[0m \u001b[38;5;28;01mif\u001b[39;00m \u001b[38;5;129;01mnot\u001b[39;00m \u001b[38;5;28mself\u001b[39m\u001b[38;5;241m.\u001b[39m_is_built:\n\u001b[1;32m    806\u001b[0m     \u001b[38;5;28mself\u001b[39m\u001b[38;5;241m.\u001b[39m_build()\n\u001b[0;32m--> 808\u001b[0m \u001b[38;5;28;01mreturn\u001b[39;00m \u001b[38;5;28;43msuper\u001b[39;49m\u001b[43m(\u001b[49m\u001b[43m)\u001b[49m\u001b[38;5;241;43m.\u001b[39;49m\u001b[43massign_parameters\u001b[49m\u001b[43m(\u001b[49m\u001b[43mparameters\u001b[49m\u001b[43m,\u001b[49m\u001b[43m \u001b[49m\u001b[43minplace\u001b[49m\u001b[38;5;241;43m=\u001b[39;49m\u001b[43minplace\u001b[49m\u001b[43m,\u001b[49m\u001b[43m \u001b[49m\u001b[38;5;241;43m*\u001b[39;49m\u001b[38;5;241;43m*\u001b[39;49m\u001b[43mkwargs\u001b[49m\u001b[43m)\u001b[49m\n",
      "File \u001b[0;32m/Library/Frameworks/Python.framework/Versions/3.11/lib/python3.11/site-packages/qiskit/circuit/quantumcircuit.py:2796\u001b[0m, in \u001b[0;36mQuantumCircuit.assign_parameters\u001b[0;34m(self, parameters, inplace, flat_input, strict)\u001b[0m\n\u001b[1;32m   2794\u001b[0m assignee \u001b[38;5;241m=\u001b[39m operation\u001b[38;5;241m.\u001b[39mparams[index]\n\u001b[1;32m   2795\u001b[0m \u001b[38;5;28;01mif\u001b[39;00m \u001b[38;5;28misinstance\u001b[39m(assignee, ParameterExpression):\n\u001b[0;32m-> 2796\u001b[0m     new_parameter \u001b[38;5;241m=\u001b[39m \u001b[43massignee\u001b[49m\u001b[38;5;241;43m.\u001b[39;49m\u001b[43massign\u001b[49m\u001b[43m(\u001b[49m\u001b[43mto_bind\u001b[49m\u001b[43m,\u001b[49m\u001b[43m \u001b[49m\u001b[43mbound_value\u001b[49m\u001b[43m)\u001b[49m\n\u001b[1;32m   2797\u001b[0m     \u001b[38;5;28;01mfor\u001b[39;00m parameter \u001b[38;5;129;01min\u001b[39;00m update_parameters:\n\u001b[1;32m   2798\u001b[0m         \u001b[38;5;28;01mif\u001b[39;00m parameter \u001b[38;5;129;01mnot\u001b[39;00m \u001b[38;5;129;01min\u001b[39;00m target\u001b[38;5;241m.\u001b[39m_parameter_table:\n",
      "File \u001b[0;32m/Library/Frameworks/Python.framework/Versions/3.11/lib/python3.11/site-packages/qiskit/circuit/parameterexpression.py:93\u001b[0m, in \u001b[0;36mParameterExpression.assign\u001b[0;34m(self, parameter, value)\u001b[0m\n\u001b[1;32m     91\u001b[0m \u001b[38;5;28;01mif\u001b[39;00m \u001b[38;5;28misinstance\u001b[39m(value, ParameterExpression):\n\u001b[1;32m     92\u001b[0m     \u001b[38;5;28;01mreturn\u001b[39;00m \u001b[38;5;28mself\u001b[39m\u001b[38;5;241m.\u001b[39msubs({parameter: value})\n\u001b[0;32m---> 93\u001b[0m \u001b[38;5;28;01mreturn\u001b[39;00m \u001b[38;5;28;43mself\u001b[39;49m\u001b[38;5;241;43m.\u001b[39;49m\u001b[43mbind\u001b[49m\u001b[43m(\u001b[49m\u001b[43m{\u001b[49m\u001b[43mparameter\u001b[49m\u001b[43m:\u001b[49m\u001b[43m \u001b[49m\u001b[43mvalue\u001b[49m\u001b[43m}\u001b[49m\u001b[43m)\u001b[49m\n",
      "File \u001b[0;32m/Library/Frameworks/Python.framework/Versions/3.11/lib/python3.11/site-packages/qiskit/circuit/parameterexpression.py:120\u001b[0m, in \u001b[0;36mParameterExpression.bind\u001b[0;34m(self, parameter_values, allow_unknown_parameters)\u001b[0m\n\u001b[1;32m    118\u001b[0m \u001b[38;5;28;01mif\u001b[39;00m \u001b[38;5;129;01mnot\u001b[39;00m allow_unknown_parameters:\n\u001b[1;32m    119\u001b[0m     \u001b[38;5;28mself\u001b[39m\u001b[38;5;241m.\u001b[39m_raise_if_passed_unknown_parameters(parameter_values\u001b[38;5;241m.\u001b[39mkeys())\n\u001b[0;32m--> 120\u001b[0m \u001b[38;5;28;43mself\u001b[39;49m\u001b[38;5;241;43m.\u001b[39;49m\u001b[43m_raise_if_passed_nan\u001b[49m\u001b[43m(\u001b[49m\u001b[43mparameter_values\u001b[49m\u001b[43m)\u001b[49m\n\u001b[1;32m    122\u001b[0m symbol_values \u001b[38;5;241m=\u001b[39m {}\n\u001b[1;32m    123\u001b[0m \u001b[38;5;28;01mfor\u001b[39;00m parameter, value \u001b[38;5;129;01min\u001b[39;00m parameter_values\u001b[38;5;241m.\u001b[39mitems():\n",
      "File \u001b[0;32m/Library/Frameworks/Python.framework/Versions/3.11/lib/python3.11/site-packages/qiskit/circuit/parameterexpression.py:222\u001b[0m, in \u001b[0;36mParameterExpression._raise_if_passed_nan\u001b[0;34m(self, parameter_values)\u001b[0m\n\u001b[1;32m    218\u001b[0m nan_parameter_values \u001b[38;5;241m=\u001b[39m {\n\u001b[1;32m    219\u001b[0m     p: v \u001b[38;5;28;01mfor\u001b[39;00m p, v \u001b[38;5;129;01min\u001b[39;00m parameter_values\u001b[38;5;241m.\u001b[39mitems() \u001b[38;5;28;01mif\u001b[39;00m \u001b[38;5;129;01mnot\u001b[39;00m \u001b[38;5;28misinstance\u001b[39m(v, numbers\u001b[38;5;241m.\u001b[39mNumber)\n\u001b[1;32m    220\u001b[0m }\n\u001b[1;32m    221\u001b[0m \u001b[38;5;28;01mif\u001b[39;00m nan_parameter_values:\n\u001b[0;32m--> 222\u001b[0m     \u001b[38;5;28;01mraise\u001b[39;00m CircuitError(\n\u001b[1;32m    223\u001b[0m         \u001b[38;5;124mf\u001b[39m\u001b[38;5;124m\"\u001b[39m\u001b[38;5;124mExpression cannot bind non-numeric values (\u001b[39m\u001b[38;5;132;01m{\u001b[39;00mnan_parameter_values\u001b[38;5;132;01m}\u001b[39;00m\u001b[38;5;124m)\u001b[39m\u001b[38;5;124m\"\u001b[39m\n\u001b[1;32m    224\u001b[0m     )\n",
      "\u001b[0;31mCircuitError\u001b[0m: 'Expression cannot bind non-numeric values ({ParameterVectorElement(x[0]): array([163, 163, 163], dtype=uint8)})'"
     ]
    }
   ],
   "source": [
    "import numpy as np\n",
    "from qiskit import QuantumCircuit, transpile, Aer\n",
    "from qiskit.circuit.library import ZFeatureMap\n",
    "from qiskit.visualization import circuit_drawer\n",
    "import cv2\n",
    "\n",
    "# Define the image as a 2D array of pixel values\n",
    "image_pixels = cv2.imread(\"./archive/train/angry/Training_3908.jpg\")\n",
    "image_pixels = cv2.cvtColor(image_pixels, cv2.COLOR_BGR2GRAY)\n",
    "#normalized_image = cv2.normalize(gray_image, None, 0, 255, cv2.NORM_MINMAX)\n",
    "\n",
    "\n",
    "# Create a ZFeatureMap circuit\n",
    "num_qubits = image_pixels.size\n",
    "z_feature_map = ZFeatureMap(num_qubits)\n",
    "\n",
    "# Encode the image pixels into the circuit\n",
    "for i in range(image_pixels.shape[0]):\n",
    "    for j in range(image_pixels.shape[1]):\n",
    "        pixel_value = image_pixels[i, j]\n",
    "        qubit_index = i * image_pixels.shape[1] + j\n",
    "        z_feature_map = z_feature_map.bind_parameters({z_feature_map.parameters[qubit_index]: pixel_value})\n",
    "\n",
    "# Print the circuit\n",
    "print(z_feature_map)\n",
    "\n",
    "# Transpile the circuit for simulation\n",
    "simulator = Aer.get_backend('statevector_simulator')\n",
    "transpiled_circuit = transpile(z_feature_map, simulator)\n",
    "\n",
    "# Draw the transpiled circuit\n",
    "circuit_drawer(transpiled_circuit, output='mpl').show()\n"
   ]
  },
  {
   "cell_type": "code",
   "execution_count": null,
   "id": "eaa38a7d-5ecd-4066-8474-98e221628d9d",
   "metadata": {},
   "outputs": [],
   "source": []
  }
 ],
 "metadata": {
  "kernelspec": {
   "display_name": "Python 3 (ipykernel)",
   "language": "python",
   "name": "python3"
  },
  "language_info": {
   "codemirror_mode": {
    "name": "ipython",
    "version": 3
   },
   "file_extension": ".py",
   "mimetype": "text/x-python",
   "name": "python",
   "nbconvert_exporter": "python",
   "pygments_lexer": "ipython3",
   "version": "3.11.4"
  }
 },
 "nbformat": 4,
 "nbformat_minor": 5
}
