{
 "cells": [
  {
   "cell_type": "code",
   "execution_count": 4,
   "id": "fa4017a8-9fe8-43dc-b9e0-969743289b70",
   "metadata": {},
   "outputs": [
    {
     "ename": "KeyboardInterrupt",
     "evalue": "",
     "output_type": "error",
     "traceback": [
      "\u001b[0;31m---------------------------------------------------------------------------\u001b[0m",
      "\u001b[0;31mKeyboardInterrupt\u001b[0m                         Traceback (most recent call last)",
      "Cell \u001b[0;32mIn[4], line 22\u001b[0m\n\u001b[1;32m     20\u001b[0m         pixel_value \u001b[38;5;241m=\u001b[39m image_pixels[i, j]\n\u001b[1;32m     21\u001b[0m         qubit_index \u001b[38;5;241m=\u001b[39m i \u001b[38;5;241m*\u001b[39m image_pixels\u001b[38;5;241m.\u001b[39mshape[\u001b[38;5;241m1\u001b[39m] \u001b[38;5;241m+\u001b[39m j\n\u001b[0;32m---> 22\u001b[0m         z_feature_map \u001b[38;5;241m=\u001b[39m \u001b[43mz_feature_map\u001b[49m\u001b[38;5;241;43m.\u001b[39;49m\u001b[43mbind_parameters\u001b[49m\u001b[43m(\u001b[49m\u001b[43m{\u001b[49m\u001b[43mz_feature_map\u001b[49m\u001b[38;5;241;43m.\u001b[39;49m\u001b[43mparameters\u001b[49m\u001b[43m[\u001b[49m\u001b[43mqubit_index\u001b[49m\u001b[43m]\u001b[49m\u001b[43m:\u001b[49m\u001b[43m \u001b[49m\u001b[43mpixel_value\u001b[49m\u001b[43m}\u001b[49m\u001b[43m)\u001b[49m\n\u001b[1;32m     24\u001b[0m \u001b[38;5;66;03m# Print the circuit\u001b[39;00m\n\u001b[1;32m     25\u001b[0m \u001b[38;5;28mprint\u001b[39m(z_feature_map)\n",
      "File \u001b[0;32m/Library/Frameworks/Python.framework/Versions/3.11/lib/python3.11/site-packages/qiskit/circuit/quantumcircuit.py:2918\u001b[0m, in \u001b[0;36mQuantumCircuit.bind_parameters\u001b[0;34m(self, values)\u001b[0m\n\u001b[1;32m   2914\u001b[0m     \u001b[38;5;28;01mif\u001b[39;00m \u001b[38;5;28many\u001b[39m(\u001b[38;5;28misinstance\u001b[39m(value, ParameterExpression) \u001b[38;5;28;01mfor\u001b[39;00m value \u001b[38;5;129;01min\u001b[39;00m values\u001b[38;5;241m.\u001b[39mvalues()):\n\u001b[1;32m   2915\u001b[0m         \u001b[38;5;28;01mraise\u001b[39;00m \u001b[38;5;167;01mTypeError\u001b[39;00m(\n\u001b[1;32m   2916\u001b[0m             \u001b[38;5;124m\"\u001b[39m\u001b[38;5;124mFound ParameterExpression in values; use assign_parameters() instead.\u001b[39m\u001b[38;5;124m\"\u001b[39m\n\u001b[1;32m   2917\u001b[0m         )\n\u001b[0;32m-> 2918\u001b[0m     \u001b[38;5;28;01mreturn\u001b[39;00m \u001b[38;5;28;43mself\u001b[39;49m\u001b[38;5;241;43m.\u001b[39;49m\u001b[43massign_parameters\u001b[49m\u001b[43m(\u001b[49m\u001b[43mvalues\u001b[49m\u001b[43m)\u001b[49m\n\u001b[1;32m   2919\u001b[0m \u001b[38;5;28;01melse\u001b[39;00m:\n\u001b[1;32m   2920\u001b[0m     \u001b[38;5;28;01mif\u001b[39;00m \u001b[38;5;28many\u001b[39m(\u001b[38;5;28misinstance\u001b[39m(value, ParameterExpression) \u001b[38;5;28;01mfor\u001b[39;00m value \u001b[38;5;129;01min\u001b[39;00m values):\n",
      "File \u001b[0;32m/Library/Frameworks/Python.framework/Versions/3.11/lib/python3.11/site-packages/qiskit/circuit/library/n_local/n_local.py:808\u001b[0m, in \u001b[0;36mNLocal.assign_parameters\u001b[0;34m(self, parameters, inplace, **kwargs)\u001b[0m\n\u001b[1;32m    805\u001b[0m \u001b[38;5;28;01mif\u001b[39;00m \u001b[38;5;129;01mnot\u001b[39;00m \u001b[38;5;28mself\u001b[39m\u001b[38;5;241m.\u001b[39m_is_built:\n\u001b[1;32m    806\u001b[0m     \u001b[38;5;28mself\u001b[39m\u001b[38;5;241m.\u001b[39m_build()\n\u001b[0;32m--> 808\u001b[0m \u001b[38;5;28;01mreturn\u001b[39;00m \u001b[38;5;28;43msuper\u001b[39;49m\u001b[43m(\u001b[49m\u001b[43m)\u001b[49m\u001b[38;5;241;43m.\u001b[39;49m\u001b[43massign_parameters\u001b[49m\u001b[43m(\u001b[49m\u001b[43mparameters\u001b[49m\u001b[43m,\u001b[49m\u001b[43m \u001b[49m\u001b[43minplace\u001b[49m\u001b[38;5;241;43m=\u001b[39;49m\u001b[43minplace\u001b[49m\u001b[43m,\u001b[49m\u001b[43m \u001b[49m\u001b[38;5;241;43m*\u001b[39;49m\u001b[38;5;241;43m*\u001b[39;49m\u001b[43mkwargs\u001b[49m\u001b[43m)\u001b[49m\n",
      "File \u001b[0;32m/Library/Frameworks/Python.framework/Versions/3.11/lib/python3.11/site-packages/qiskit/circuit/quantumcircuit.py:2746\u001b[0m, in \u001b[0;36mQuantumCircuit.assign_parameters\u001b[0;34m(self, parameters, inplace, flat_input, strict)\u001b[0m\n\u001b[1;32m   2744\u001b[0m     target \u001b[38;5;241m=\u001b[39m \u001b[38;5;28mself\u001b[39m\n\u001b[1;32m   2745\u001b[0m \u001b[38;5;28;01melse\u001b[39;00m:\n\u001b[0;32m-> 2746\u001b[0m     target \u001b[38;5;241m=\u001b[39m \u001b[38;5;28;43mself\u001b[39;49m\u001b[38;5;241;43m.\u001b[39;49m\u001b[43mcopy\u001b[49m\u001b[43m(\u001b[49m\u001b[43m)\u001b[49m\n\u001b[1;32m   2747\u001b[0m     target\u001b[38;5;241m.\u001b[39m_increment_instances()\n\u001b[1;32m   2748\u001b[0m     target\u001b[38;5;241m.\u001b[39m_name_update()\n",
      "File \u001b[0;32m/Library/Frameworks/Python.framework/Versions/3.11/lib/python3.11/site-packages/qiskit/circuit/library/blueprintcircuit.py:181\u001b[0m, in \u001b[0;36mBlueprintCircuit.copy\u001b[0;34m(self, name)\u001b[0m\n\u001b[1;32m    179\u001b[0m \u001b[38;5;28;01mif\u001b[39;00m \u001b[38;5;129;01mnot\u001b[39;00m \u001b[38;5;28mself\u001b[39m\u001b[38;5;241m.\u001b[39m_is_built:\n\u001b[1;32m    180\u001b[0m     \u001b[38;5;28mself\u001b[39m\u001b[38;5;241m.\u001b[39m_build()\n\u001b[0;32m--> 181\u001b[0m circuit_copy \u001b[38;5;241m=\u001b[39m \u001b[38;5;28;43msuper\u001b[39;49m\u001b[43m(\u001b[49m\u001b[43m)\u001b[49m\u001b[38;5;241;43m.\u001b[39;49m\u001b[43mcopy\u001b[49m\u001b[43m(\u001b[49m\u001b[43mname\u001b[49m\u001b[38;5;241;43m=\u001b[39;49m\u001b[43mname\u001b[49m\u001b[43m)\u001b[49m\n\u001b[1;32m    182\u001b[0m circuit_copy\u001b[38;5;241m.\u001b[39m_is_built \u001b[38;5;241m=\u001b[39m \u001b[38;5;28mself\u001b[39m\u001b[38;5;241m.\u001b[39m_is_built\n\u001b[1;32m    183\u001b[0m \u001b[38;5;28;01mreturn\u001b[39;00m circuit_copy\n",
      "File \u001b[0;32m/Library/Frameworks/Python.framework/Versions/3.11/lib/python3.11/site-packages/qiskit/circuit/quantumcircuit.py:2195\u001b[0m, in \u001b[0;36mQuantumCircuit.copy\u001b[0;34m(self, name)\u001b[0m\n\u001b[1;32m   2188\u001b[0m cpy \u001b[38;5;241m=\u001b[39m \u001b[38;5;28mself\u001b[39m\u001b[38;5;241m.\u001b[39mcopy_empty_like(name)\n\u001b[1;32m   2190\u001b[0m operation_copies \u001b[38;5;241m=\u001b[39m {\n\u001b[1;32m   2191\u001b[0m     \u001b[38;5;28mid\u001b[39m(instruction\u001b[38;5;241m.\u001b[39moperation): instruction\u001b[38;5;241m.\u001b[39moperation\u001b[38;5;241m.\u001b[39mcopy() \u001b[38;5;28;01mfor\u001b[39;00m instruction \u001b[38;5;129;01min\u001b[39;00m \u001b[38;5;28mself\u001b[39m\u001b[38;5;241m.\u001b[39m_data\n\u001b[1;32m   2192\u001b[0m }\n\u001b[1;32m   2194\u001b[0m cpy\u001b[38;5;241m.\u001b[39m_parameter_table \u001b[38;5;241m=\u001b[39m ParameterTable(\n\u001b[0;32m-> 2195\u001b[0m     \u001b[43m{\u001b[49m\n\u001b[1;32m   2196\u001b[0m \u001b[43m        \u001b[49m\u001b[43mparam\u001b[49m\u001b[43m:\u001b[49m\u001b[43m \u001b[49m\u001b[43mParameterReferences\u001b[49m\u001b[43m(\u001b[49m\n\u001b[1;32m   2197\u001b[0m \u001b[43m            \u001b[49m\u001b[43m(\u001b[49m\u001b[43moperation_copies\u001b[49m\u001b[43m[\u001b[49m\u001b[38;5;28;43mid\u001b[39;49m\u001b[43m(\u001b[49m\u001b[43moperation\u001b[49m\u001b[43m)\u001b[49m\u001b[43m]\u001b[49m\u001b[43m,\u001b[49m\u001b[43m \u001b[49m\u001b[43mparam_index\u001b[49m\u001b[43m)\u001b[49m\n\u001b[1;32m   2198\u001b[0m \u001b[43m            \u001b[49m\u001b[38;5;28;43;01mfor\u001b[39;49;00m\u001b[43m \u001b[49m\u001b[43moperation\u001b[49m\u001b[43m,\u001b[49m\u001b[43m \u001b[49m\u001b[43mparam_index\u001b[49m\u001b[43m \u001b[49m\u001b[38;5;129;43;01min\u001b[39;49;00m\u001b[43m \u001b[49m\u001b[38;5;28;43mself\u001b[39;49m\u001b[38;5;241;43m.\u001b[39;49m\u001b[43m_parameter_table\u001b[49m\u001b[43m[\u001b[49m\u001b[43mparam\u001b[49m\u001b[43m]\u001b[49m\n\u001b[1;32m   2199\u001b[0m \u001b[43m        \u001b[49m\u001b[43m)\u001b[49m\n\u001b[1;32m   2200\u001b[0m \u001b[43m        \u001b[49m\u001b[38;5;28;43;01mfor\u001b[39;49;00m\u001b[43m \u001b[49m\u001b[43mparam\u001b[49m\u001b[43m \u001b[49m\u001b[38;5;129;43;01min\u001b[39;49;00m\u001b[43m \u001b[49m\u001b[38;5;28;43mself\u001b[39;49m\u001b[38;5;241;43m.\u001b[39;49m\u001b[43m_parameter_table\u001b[49m\n\u001b[1;32m   2201\u001b[0m \u001b[43m    \u001b[49m\u001b[43m}\u001b[49m\n\u001b[1;32m   2202\u001b[0m )\n\u001b[1;32m   2204\u001b[0m cpy\u001b[38;5;241m.\u001b[39m_data \u001b[38;5;241m=\u001b[39m [\n\u001b[1;32m   2205\u001b[0m     instruction\u001b[38;5;241m.\u001b[39mreplace(operation\u001b[38;5;241m=\u001b[39moperation_copies[\u001b[38;5;28mid\u001b[39m(instruction\u001b[38;5;241m.\u001b[39moperation)])\n\u001b[1;32m   2206\u001b[0m     \u001b[38;5;28;01mfor\u001b[39;00m instruction \u001b[38;5;129;01min\u001b[39;00m \u001b[38;5;28mself\u001b[39m\u001b[38;5;241m.\u001b[39m_data\n\u001b[1;32m   2207\u001b[0m ]\n\u001b[1;32m   2209\u001b[0m \u001b[38;5;28;01mreturn\u001b[39;00m cpy\n",
      "File \u001b[0;32m/Library/Frameworks/Python.framework/Versions/3.11/lib/python3.11/site-packages/qiskit/circuit/quantumcircuit.py:2196\u001b[0m, in \u001b[0;36m<dictcomp>\u001b[0;34m(.0)\u001b[0m\n\u001b[1;32m   2188\u001b[0m cpy \u001b[38;5;241m=\u001b[39m \u001b[38;5;28mself\u001b[39m\u001b[38;5;241m.\u001b[39mcopy_empty_like(name)\n\u001b[1;32m   2190\u001b[0m operation_copies \u001b[38;5;241m=\u001b[39m {\n\u001b[1;32m   2191\u001b[0m     \u001b[38;5;28mid\u001b[39m(instruction\u001b[38;5;241m.\u001b[39moperation): instruction\u001b[38;5;241m.\u001b[39moperation\u001b[38;5;241m.\u001b[39mcopy() \u001b[38;5;28;01mfor\u001b[39;00m instruction \u001b[38;5;129;01min\u001b[39;00m \u001b[38;5;28mself\u001b[39m\u001b[38;5;241m.\u001b[39m_data\n\u001b[1;32m   2192\u001b[0m }\n\u001b[1;32m   2194\u001b[0m cpy\u001b[38;5;241m.\u001b[39m_parameter_table \u001b[38;5;241m=\u001b[39m ParameterTable(\n\u001b[1;32m   2195\u001b[0m     {\n\u001b[0;32m-> 2196\u001b[0m         param: \u001b[43mParameterReferences\u001b[49m\u001b[43m(\u001b[49m\n\u001b[1;32m   2197\u001b[0m \u001b[43m            \u001b[49m\u001b[43m(\u001b[49m\u001b[43moperation_copies\u001b[49m\u001b[43m[\u001b[49m\u001b[38;5;28;43mid\u001b[39;49m\u001b[43m(\u001b[49m\u001b[43moperation\u001b[49m\u001b[43m)\u001b[49m\u001b[43m]\u001b[49m\u001b[43m,\u001b[49m\u001b[43m \u001b[49m\u001b[43mparam_index\u001b[49m\u001b[43m)\u001b[49m\n\u001b[1;32m   2198\u001b[0m \u001b[43m            \u001b[49m\u001b[38;5;28;43;01mfor\u001b[39;49;00m\u001b[43m \u001b[49m\u001b[43moperation\u001b[49m\u001b[43m,\u001b[49m\u001b[43m \u001b[49m\u001b[43mparam_index\u001b[49m\u001b[43m \u001b[49m\u001b[38;5;129;43;01min\u001b[39;49;00m\u001b[43m \u001b[49m\u001b[38;5;28;43mself\u001b[39;49m\u001b[38;5;241;43m.\u001b[39;49m\u001b[43m_parameter_table\u001b[49m\u001b[43m[\u001b[49m\u001b[43mparam\u001b[49m\u001b[43m]\u001b[49m\n\u001b[1;32m   2199\u001b[0m \u001b[43m        \u001b[49m\u001b[43m)\u001b[49m\n\u001b[1;32m   2200\u001b[0m         \u001b[38;5;28;01mfor\u001b[39;00m param \u001b[38;5;129;01min\u001b[39;00m \u001b[38;5;28mself\u001b[39m\u001b[38;5;241m.\u001b[39m_parameter_table\n\u001b[1;32m   2201\u001b[0m     }\n\u001b[1;32m   2202\u001b[0m )\n\u001b[1;32m   2204\u001b[0m cpy\u001b[38;5;241m.\u001b[39m_data \u001b[38;5;241m=\u001b[39m [\n\u001b[1;32m   2205\u001b[0m     instruction\u001b[38;5;241m.\u001b[39mreplace(operation\u001b[38;5;241m=\u001b[39moperation_copies[\u001b[38;5;28mid\u001b[39m(instruction\u001b[38;5;241m.\u001b[39moperation)])\n\u001b[1;32m   2206\u001b[0m     \u001b[38;5;28;01mfor\u001b[39;00m instruction \u001b[38;5;129;01min\u001b[39;00m \u001b[38;5;28mself\u001b[39m\u001b[38;5;241m.\u001b[39m_data\n\u001b[1;32m   2207\u001b[0m ]\n\u001b[1;32m   2209\u001b[0m \u001b[38;5;28;01mreturn\u001b[39;00m cpy\n",
      "File \u001b[0;32m/Library/Frameworks/Python.framework/Versions/3.11/lib/python3.11/site-packages/qiskit/circuit/parametertable.py:32\u001b[0m, in \u001b[0;36mParameterReferences.__init__\u001b[0;34m(self, refs)\u001b[0m\n\u001b[1;32m     29\u001b[0m \u001b[38;5;28;01mdef\u001b[39;00m \u001b[38;5;21m__init__\u001b[39m(\u001b[38;5;28mself\u001b[39m, refs):\n\u001b[1;32m     30\u001b[0m     \u001b[38;5;28mself\u001b[39m\u001b[38;5;241m.\u001b[39m_instance_ids \u001b[38;5;241m=\u001b[39m {}\n\u001b[0;32m---> 32\u001b[0m     \u001b[38;5;28;01mfor\u001b[39;00m ref \u001b[38;5;129;01min\u001b[39;00m refs:\n\u001b[1;32m     33\u001b[0m         \u001b[38;5;28;01mif\u001b[39;00m \u001b[38;5;129;01mnot\u001b[39;00m \u001b[38;5;28misinstance\u001b[39m(ref, \u001b[38;5;28mtuple\u001b[39m) \u001b[38;5;129;01mor\u001b[39;00m \u001b[38;5;28mlen\u001b[39m(ref) \u001b[38;5;241m!=\u001b[39m \u001b[38;5;241m2\u001b[39m:\n\u001b[1;32m     34\u001b[0m             \u001b[38;5;28;01mraise\u001b[39;00m \u001b[38;5;167;01mValueError\u001b[39;00m(\u001b[38;5;124m\"\u001b[39m\u001b[38;5;124mrefs must be in form (instruction, param_index)\u001b[39m\u001b[38;5;124m\"\u001b[39m)\n",
      "File \u001b[0;32m/Library/Frameworks/Python.framework/Versions/3.11/lib/python3.11/site-packages/qiskit/circuit/quantumcircuit.py:2196\u001b[0m, in \u001b[0;36m<genexpr>\u001b[0;34m(.0)\u001b[0m\n\u001b[1;32m   2188\u001b[0m cpy \u001b[38;5;241m=\u001b[39m \u001b[38;5;28mself\u001b[39m\u001b[38;5;241m.\u001b[39mcopy_empty_like(name)\n\u001b[1;32m   2190\u001b[0m operation_copies \u001b[38;5;241m=\u001b[39m {\n\u001b[1;32m   2191\u001b[0m     \u001b[38;5;28mid\u001b[39m(instruction\u001b[38;5;241m.\u001b[39moperation): instruction\u001b[38;5;241m.\u001b[39moperation\u001b[38;5;241m.\u001b[39mcopy() \u001b[38;5;28;01mfor\u001b[39;00m instruction \u001b[38;5;129;01min\u001b[39;00m \u001b[38;5;28mself\u001b[39m\u001b[38;5;241m.\u001b[39m_data\n\u001b[1;32m   2192\u001b[0m }\n\u001b[1;32m   2194\u001b[0m cpy\u001b[38;5;241m.\u001b[39m_parameter_table \u001b[38;5;241m=\u001b[39m ParameterTable(\n\u001b[1;32m   2195\u001b[0m     {\n\u001b[0;32m-> 2196\u001b[0m         param: ParameterReferences(\n\u001b[1;32m   2197\u001b[0m             (operation_copies[\u001b[38;5;28mid\u001b[39m(operation)], param_index)\n\u001b[1;32m   2198\u001b[0m             \u001b[38;5;28;01mfor\u001b[39;00m operation, param_index \u001b[38;5;129;01min\u001b[39;00m \u001b[38;5;28mself\u001b[39m\u001b[38;5;241m.\u001b[39m_parameter_table[param]\n\u001b[1;32m   2199\u001b[0m         )\n\u001b[1;32m   2200\u001b[0m         \u001b[38;5;28;01mfor\u001b[39;00m param \u001b[38;5;129;01min\u001b[39;00m \u001b[38;5;28mself\u001b[39m\u001b[38;5;241m.\u001b[39m_parameter_table\n\u001b[1;32m   2201\u001b[0m     }\n\u001b[1;32m   2202\u001b[0m )\n\u001b[1;32m   2204\u001b[0m cpy\u001b[38;5;241m.\u001b[39m_data \u001b[38;5;241m=\u001b[39m [\n\u001b[1;32m   2205\u001b[0m     instruction\u001b[38;5;241m.\u001b[39mreplace(operation\u001b[38;5;241m=\u001b[39moperation_copies[\u001b[38;5;28mid\u001b[39m(instruction\u001b[38;5;241m.\u001b[39moperation)])\n\u001b[1;32m   2206\u001b[0m     \u001b[38;5;28;01mfor\u001b[39;00m instruction \u001b[38;5;129;01min\u001b[39;00m \u001b[38;5;28mself\u001b[39m\u001b[38;5;241m.\u001b[39m_data\n\u001b[1;32m   2207\u001b[0m ]\n\u001b[1;32m   2209\u001b[0m \u001b[38;5;28;01mreturn\u001b[39;00m cpy\n",
      "File \u001b[0;32m/Library/Frameworks/Python.framework/Versions/3.11/lib/python3.11/site-packages/qiskit/circuit/parametertable.py:51\u001b[0m, in \u001b[0;36mParameterReferences.__iter__\u001b[0;34m(self)\u001b[0m\n\u001b[1;32m     50\u001b[0m \u001b[38;5;28;01mdef\u001b[39;00m \u001b[38;5;21m__iter__\u001b[39m(\u001b[38;5;28mself\u001b[39m):\n\u001b[0;32m---> 51\u001b[0m     \u001b[38;5;28;01mfor\u001b[39;00m (_, idx), instruction \u001b[38;5;129;01min\u001b[39;00m \u001b[38;5;28mself\u001b[39m\u001b[38;5;241m.\u001b[39m_instance_ids\u001b[38;5;241m.\u001b[39mitems():\n\u001b[1;32m     52\u001b[0m         \u001b[38;5;28;01myield\u001b[39;00m (instruction, idx)\n",
      "\u001b[0;31mKeyboardInterrupt\u001b[0m: "
     ]
    }
   ],
   "source": [
    "import numpy as np\n",
    "from qiskit import QuantumCircuit, transpile, Aer\n",
    "from qiskit.circuit.library import ZFeatureMap\n",
    "from qiskit.visualization import circuit_drawer\n",
    "import cv2\n",
    "\n",
    "# Define the image as a 2D array of pixel values\n",
    "image_pixels = cv2.imread(\"./archive/train/angry/Training_3908.jpg\")\n",
    "image_pixels = cv2.cvtColor(image_pixels, cv2.COLOR_BGR2GRAY)\n",
    "#normalized_image = cv2.normalize(gray_image, None, 0, 255, cv2.NORM_MINMAX)\n",
    "\n",
    "\n",
    "# Create a ZFeatureMap circuit\n",
    "num_qubits = image_pixels.size\n",
    "z_feature_map = ZFeatureMap(num_qubits)\n",
    "\n",
    "# Encode the image pixels into the circuit\n",
    "for i in range(image_pixels.shape[0]):\n",
    "    for j in range(image_pixels.shape[1]):\n",
    "        pixel_value = image_pixels[i, j]\n",
    "        qubit_index = i * image_pixels.shape[1] + j\n",
    "        z_feature_map = z_feature_map.bind_parameters({z_feature_map.parameters[qubit_index]: pixel_value})\n",
    "\n",
    "# Print the circuit\n",
    "print(z_feature_map)\n",
    "\n",
    "# Transpile the circuit for simulation\n",
    "simulator = Aer.get_backend('statevector_simulator')\n",
    "transpiled_circuit = transpile(z_feature_map, simulator)\n",
    "\n",
    "# Draw the transpiled circuit\n",
    "circuit_drawer(transpiled_circuit, output='mpl').show()\n"
   ]
  },
  {
   "cell_type": "code",
   "execution_count": null,
   "id": "eaa38a7d-5ecd-4066-8474-98e221628d9d",
   "metadata": {},
   "outputs": [],
   "source": []
  }
 ],
 "metadata": {
  "kernelspec": {
   "display_name": "Python 3 (ipykernel)",
   "language": "python",
   "name": "python3"
  },
  "language_info": {
   "codemirror_mode": {
    "name": "ipython",
    "version": 3
   },
   "file_extension": ".py",
   "mimetype": "text/x-python",
   "name": "python",
   "nbconvert_exporter": "python",
   "pygments_lexer": "ipython3",
   "version": "3.11.4"
  }
 },
 "nbformat": 4,
 "nbformat_minor": 5
}
